{
 "cells": [
  {
   "cell_type": "markdown",
   "id": "b7fbf40d-8d70-46be-b5c2-17e33d00b1c0",
   "metadata": {},
   "source": [
    "Integrantes: Paulina Duque, Constanza Ríos\n",
    "Solicitamos ayuda de compañero Vittorio Pesenti\n"
   ]
  },
  {
   "cell_type": "code",
   "execution_count": 1,
   "id": "27312a30-81ec-49b9-95c1-73f92d30bf55",
   "metadata": {},
   "outputs": [],
   "source": [
    "import pandas as pd\n",
    "import seaborn as sns\n",
    "import matplotlib.pyplot as plt\n",
    "import numpy as np\n",
    "from statsmodels import robust\n",
    "%matplotlib inline"
   ]
  },
  {
   "cell_type": "code",
   "execution_count": 72,
   "id": "c513845c-1f1c-4d00-bd62-d01677ef840f",
   "metadata": {},
   "outputs": [],
   "source": [
    "#Info Ministerio de Salud\n",
    "cuarentenas_df = pd.read_csv('https://github.com/MinCiencia/Datos-COVID19/blob'\n",
    "                                  '/master/output/producto29/Cuarentenas-Totales.csv?raw=true',\n",
    "                                  encoding = 'utf-8' , sep = ',')"
   ]
  },
  {
   "cell_type": "code",
   "execution_count": 73,
   "id": "27c022e7-31a7-40d6-9969-72fcd8648103",
   "metadata": {},
   "outputs": [
    {
     "data": {
      "text/html": [
       "<div>\n",
       "<style scoped>\n",
       "    .dataframe tbody tr th:only-of-type {\n",
       "        vertical-align: middle;\n",
       "    }\n",
       "\n",
       "    .dataframe tbody tr th {\n",
       "        vertical-align: top;\n",
       "    }\n",
       "\n",
       "    .dataframe thead th {\n",
       "        text-align: right;\n",
       "    }\n",
       "</style>\n",
       "<table border=\"1\" class=\"dataframe\">\n",
       "  <thead>\n",
       "    <tr style=\"text-align: right;\">\n",
       "      <th></th>\n",
       "      <th>ID</th>\n",
       "      <th>Nombre</th>\n",
       "      <th>Estado</th>\n",
       "      <th>Alcance</th>\n",
       "      <th>Fecha de Inicio</th>\n",
       "      <th>Fecha de Término</th>\n",
       "      <th>Código CUT Comuna</th>\n",
       "      <th>Detalle</th>\n",
       "      <th>Superficie en m2</th>\n",
       "      <th>Perímetro en m</th>\n",
       "      <th>Region</th>\n",
       "      <th>n_REGION</th>\n",
       "    </tr>\n",
       "  </thead>\n",
       "  <tbody>\n",
       "    <tr>\n",
       "      <th>0</th>\n",
       "      <td>1</td>\n",
       "      <td>Arica</td>\n",
       "      <td>Histórica</td>\n",
       "      <td>Área Urbana Completa</td>\n",
       "      <td>2020-04-16 22:00:00</td>\n",
       "      <td>2020-05-15 22:00:00</td>\n",
       "      <td>15101</td>\n",
       "      <td>Corresponde al Radio Urbano de la Ciudad de Ar...</td>\n",
       "      <td>28050418.80</td>\n",
       "      <td>48722.30001</td>\n",
       "      <td>15</td>\n",
       "      <td>R15</td>\n",
       "    </tr>\n",
       "    <tr>\n",
       "      <th>1</th>\n",
       "      <td>2</td>\n",
       "      <td>Santiago Norte</td>\n",
       "      <td>Histórica</td>\n",
       "      <td>Sector Específico</td>\n",
       "      <td>2020-04-13 05:00:00</td>\n",
       "      <td>2020-05-05 22:00:00</td>\n",
       "      <td>13101</td>\n",
       "      <td>Corresponde a la extensión de la cuarentena en...</td>\n",
       "      <td>19939218.57</td>\n",
       "      <td>21599.35134</td>\n",
       "      <td>13</td>\n",
       "      <td>R13</td>\n",
       "    </tr>\n",
       "    <tr>\n",
       "      <th>2</th>\n",
       "      <td>3</td>\n",
       "      <td>Puente Alto Poniente</td>\n",
       "      <td>Histórica</td>\n",
       "      <td>Sector Específico</td>\n",
       "      <td>2020-04-09 22:00:00</td>\n",
       "      <td>2020-05-08 22:00:00</td>\n",
       "      <td>13201</td>\n",
       "      <td>Corresponde al sector delimitado por la Av. Co...</td>\n",
       "      <td>42364268.21</td>\n",
       "      <td>30428.05152</td>\n",
       "      <td>13</td>\n",
       "      <td>R13</td>\n",
       "    </tr>\n",
       "    <tr>\n",
       "      <th>3</th>\n",
       "      <td>4</td>\n",
       "      <td>El Bosque</td>\n",
       "      <td>Histórica</td>\n",
       "      <td>Comuna completa</td>\n",
       "      <td>2020-04-16 22:00:00</td>\n",
       "      <td>2020-09-21 05:00:00</td>\n",
       "      <td>13105</td>\n",
       "      <td>Aplicada a la totalidad de la comuna. Se incor...</td>\n",
       "      <td>20622713.23</td>\n",
       "      <td>18788.87075</td>\n",
       "      <td>13</td>\n",
       "      <td>R13</td>\n",
       "    </tr>\n",
       "    <tr>\n",
       "      <th>4</th>\n",
       "      <td>5</td>\n",
       "      <td>San Bernardo Nororiente</td>\n",
       "      <td>Histórica</td>\n",
       "      <td>Sector Específico</td>\n",
       "      <td>2020-04-16 22:00:00</td>\n",
       "      <td>2020-05-08 22:00:00</td>\n",
       "      <td>13401</td>\n",
       "      <td>Corresponde al sector delimitado por los limit...</td>\n",
       "      <td>16326216.83</td>\n",
       "      <td>24929.14572</td>\n",
       "      <td>13</td>\n",
       "      <td>R13</td>\n",
       "    </tr>\n",
       "  </tbody>\n",
       "</table>\n",
       "</div>"
      ],
      "text/plain": [
       "   ID                   Nombre     Estado               Alcance  \\\n",
       "0   1                    Arica  Histórica  Área Urbana Completa   \n",
       "1   2           Santiago Norte  Histórica     Sector Específico   \n",
       "2   3     Puente Alto Poniente  Histórica     Sector Específico   \n",
       "3   4                El Bosque  Histórica       Comuna completa   \n",
       "4   5  San Bernardo Nororiente  Histórica     Sector Específico   \n",
       "\n",
       "       Fecha de Inicio     Fecha de Término  Código CUT Comuna  \\\n",
       "0  2020-04-16 22:00:00  2020-05-15 22:00:00              15101   \n",
       "1  2020-04-13 05:00:00  2020-05-05 22:00:00              13101   \n",
       "2  2020-04-09 22:00:00  2020-05-08 22:00:00              13201   \n",
       "3  2020-04-16 22:00:00  2020-09-21 05:00:00              13105   \n",
       "4  2020-04-16 22:00:00  2020-05-08 22:00:00              13401   \n",
       "\n",
       "                                             Detalle  Superficie en m2  \\\n",
       "0  Corresponde al Radio Urbano de la Ciudad de Ar...       28050418.80   \n",
       "1  Corresponde a la extensión de la cuarentena en...       19939218.57   \n",
       "2  Corresponde al sector delimitado por la Av. Co...       42364268.21   \n",
       "3  Aplicada a la totalidad de la comuna. Se incor...       20622713.23   \n",
       "4  Corresponde al sector delimitado por los limit...       16326216.83   \n",
       "\n",
       "   Perímetro en m  Region n_REGION  \n",
       "0     48722.30001      15      R15  \n",
       "1     21599.35134      13      R13  \n",
       "2     30428.05152      13      R13  \n",
       "3     18788.87075      13      R13  \n",
       "4     24929.14572      13      R13  "
      ]
     },
     "execution_count": 73,
     "metadata": {},
     "output_type": "execute_result"
    }
   ],
   "source": [
    "cuarentenas_df.head()"
   ]
  },
  {
   "cell_type": "code",
   "execution_count": 77,
   "id": "b10e58b3-4b9d-453a-b2d3-9d4e9829f506",
   "metadata": {},
   "outputs": [],
   "source": [
    "#Notamos que Codigo CUT Comuna difiere de Codigo comuna de poblacion, tanto en numero (Int vs float) como en nombre,\n",
    "#se renombrara CUT aqui, y mas abajo se cambiara float por int\n",
    "#Cambiar nombre de Codigo CUT Comuna a Codigo comuna\n",
    "cuarentenas_df = cuarentenas_df.rename(columns = {'Código CUT Comuna': 'Codigo comuna'}, inplace = False)"
   ]
  },
  {
   "cell_type": "code",
   "execution_count": 79,
   "id": "359f2533-01b5-44af-ae85-9eb1640e334a",
   "metadata": {},
   "outputs": [],
   "source": [
    "#Eliminar columnas que no usaremos\n",
    "cuarentenas1_df = cuarentenas_df.drop(columns='Estado')\n",
    "cuarentenas2_df = cuarentenas1_df.drop(columns='Alcance')\n",
    "cuarentenas3_df = cuarentenas2_df.drop(columns='Detalle')\n",
    "cuarentenas4_df = cuarentenas3_df.drop(columns='Superficie en m2')\n",
    "cuarentenas5_df = cuarentenas4_df.drop(columns='Perímetro en m')\n",
    "cuarentenareal_df = cuarentenas5_df.drop(columns='n_REGION')\n"
   ]
  },
  {
   "cell_type": "code",
   "execution_count": 80,
   "id": "0d8f5b69-9211-4b73-9aae-f0838edb4cbc",
   "metadata": {},
   "outputs": [
    {
     "data": {
      "text/html": [
       "<div>\n",
       "<style scoped>\n",
       "    .dataframe tbody tr th:only-of-type {\n",
       "        vertical-align: middle;\n",
       "    }\n",
       "\n",
       "    .dataframe tbody tr th {\n",
       "        vertical-align: top;\n",
       "    }\n",
       "\n",
       "    .dataframe thead th {\n",
       "        text-align: right;\n",
       "    }\n",
       "</style>\n",
       "<table border=\"1\" class=\"dataframe\">\n",
       "  <thead>\n",
       "    <tr style=\"text-align: right;\">\n",
       "      <th></th>\n",
       "      <th>ID</th>\n",
       "      <th>Nombre</th>\n",
       "      <th>Fecha de Inicio</th>\n",
       "      <th>Fecha de Término</th>\n",
       "      <th>Codigo comuna</th>\n",
       "      <th>Region</th>\n",
       "    </tr>\n",
       "  </thead>\n",
       "  <tbody>\n",
       "    <tr>\n",
       "      <th>0</th>\n",
       "      <td>1</td>\n",
       "      <td>Arica</td>\n",
       "      <td>2020-04-16 22:00:00</td>\n",
       "      <td>2020-05-15 22:00:00</td>\n",
       "      <td>15101</td>\n",
       "      <td>15</td>\n",
       "    </tr>\n",
       "    <tr>\n",
       "      <th>1</th>\n",
       "      <td>2</td>\n",
       "      <td>Santiago Norte</td>\n",
       "      <td>2020-04-13 05:00:00</td>\n",
       "      <td>2020-05-05 22:00:00</td>\n",
       "      <td>13101</td>\n",
       "      <td>13</td>\n",
       "    </tr>\n",
       "    <tr>\n",
       "      <th>2</th>\n",
       "      <td>3</td>\n",
       "      <td>Puente Alto Poniente</td>\n",
       "      <td>2020-04-09 22:00:00</td>\n",
       "      <td>2020-05-08 22:00:00</td>\n",
       "      <td>13201</td>\n",
       "      <td>13</td>\n",
       "    </tr>\n",
       "    <tr>\n",
       "      <th>3</th>\n",
       "      <td>4</td>\n",
       "      <td>El Bosque</td>\n",
       "      <td>2020-04-16 22:00:00</td>\n",
       "      <td>2020-09-21 05:00:00</td>\n",
       "      <td>13105</td>\n",
       "      <td>13</td>\n",
       "    </tr>\n",
       "    <tr>\n",
       "      <th>4</th>\n",
       "      <td>5</td>\n",
       "      <td>San Bernardo Nororiente</td>\n",
       "      <td>2020-04-16 22:00:00</td>\n",
       "      <td>2020-05-08 22:00:00</td>\n",
       "      <td>13401</td>\n",
       "      <td>13</td>\n",
       "    </tr>\n",
       "  </tbody>\n",
       "</table>\n",
       "</div>"
      ],
      "text/plain": [
       "   ID                   Nombre      Fecha de Inicio     Fecha de Término  \\\n",
       "0   1                    Arica  2020-04-16 22:00:00  2020-05-15 22:00:00   \n",
       "1   2           Santiago Norte  2020-04-13 05:00:00  2020-05-05 22:00:00   \n",
       "2   3     Puente Alto Poniente  2020-04-09 22:00:00  2020-05-08 22:00:00   \n",
       "3   4                El Bosque  2020-04-16 22:00:00  2020-09-21 05:00:00   \n",
       "4   5  San Bernardo Nororiente  2020-04-16 22:00:00  2020-05-08 22:00:00   \n",
       "\n",
       "   Codigo comuna  Region  \n",
       "0          15101      15  \n",
       "1          13101      13  \n",
       "2          13201      13  \n",
       "3          13105      13  \n",
       "4          13401      13  "
      ]
     },
     "execution_count": 80,
     "metadata": {},
     "output_type": "execute_result"
    }
   ],
   "source": [
    "cuarentenareal_df.head()"
   ]
  },
  {
   "cell_type": "code",
   "execution_count": 83,
   "id": "d52fdded-5b3b-4e35-b47b-222b2ca418d9",
   "metadata": {},
   "outputs": [],
   "source": [
    "#Info de las poblaiones de cada region\n",
    "poblacion1_df = pd.read_csv ('https://github.com/MinCiencia/Datos-COVID19/blob'\n",
    "                            '/master/output/producto1/Covid-19.csv?raw=true', encoding = 'utf-8', sep = ',')"
   ]
  },
  {
   "cell_type": "code",
   "execution_count": 84,
   "id": "72f18f41-fa9f-47ed-a9d6-045d58c4456d",
   "metadata": {},
   "outputs": [
    {
     "data": {
      "text/html": [
       "<div>\n",
       "<style scoped>\n",
       "    .dataframe tbody tr th:only-of-type {\n",
       "        vertical-align: middle;\n",
       "    }\n",
       "\n",
       "    .dataframe tbody tr th {\n",
       "        vertical-align: top;\n",
       "    }\n",
       "\n",
       "    .dataframe thead th {\n",
       "        text-align: right;\n",
       "    }\n",
       "</style>\n",
       "<table border=\"1\" class=\"dataframe\">\n",
       "  <thead>\n",
       "    <tr style=\"text-align: right;\">\n",
       "      <th></th>\n",
       "      <th>Region</th>\n",
       "      <th>Codigo region</th>\n",
       "      <th>Comuna</th>\n",
       "      <th>Codigo comuna</th>\n",
       "      <th>Poblacion</th>\n",
       "      <th>2020-03-30</th>\n",
       "      <th>2020-04-01</th>\n",
       "      <th>2020-04-03</th>\n",
       "      <th>2020-04-06</th>\n",
       "      <th>2020-04-08</th>\n",
       "      <th>...</th>\n",
       "      <th>2021-11-05</th>\n",
       "      <th>2021-11-08</th>\n",
       "      <th>2021-11-12</th>\n",
       "      <th>2021-11-15</th>\n",
       "      <th>2021-11-19</th>\n",
       "      <th>2021-11-22</th>\n",
       "      <th>2021-11-26</th>\n",
       "      <th>2021-11-29</th>\n",
       "      <th>2021-12-03</th>\n",
       "      <th>Tasa</th>\n",
       "    </tr>\n",
       "  </thead>\n",
       "  <tbody>\n",
       "    <tr>\n",
       "      <th>0</th>\n",
       "      <td>Arica y Parinacota</td>\n",
       "      <td>15</td>\n",
       "      <td>Arica</td>\n",
       "      <td>15101.0</td>\n",
       "      <td>247552.0</td>\n",
       "      <td>6.0</td>\n",
       "      <td>6.0</td>\n",
       "      <td>12.0</td>\n",
       "      <td>41.0</td>\n",
       "      <td>63.0</td>\n",
       "      <td>...</td>\n",
       "      <td>31125.0</td>\n",
       "      <td>31208.0</td>\n",
       "      <td>31361.0</td>\n",
       "      <td>31438.0</td>\n",
       "      <td>31519.0</td>\n",
       "      <td>31566.0</td>\n",
       "      <td>31643.0</td>\n",
       "      <td>31662.0</td>\n",
       "      <td>31713.0</td>\n",
       "      <td>12810.6</td>\n",
       "    </tr>\n",
       "    <tr>\n",
       "      <th>1</th>\n",
       "      <td>Arica y Parinacota</td>\n",
       "      <td>15</td>\n",
       "      <td>Camarones</td>\n",
       "      <td>15102.0</td>\n",
       "      <td>1233.0</td>\n",
       "      <td>0.0</td>\n",
       "      <td>0.0</td>\n",
       "      <td>0.0</td>\n",
       "      <td>0.0</td>\n",
       "      <td>0.0</td>\n",
       "      <td>...</td>\n",
       "      <td>73.0</td>\n",
       "      <td>73.0</td>\n",
       "      <td>73.0</td>\n",
       "      <td>73.0</td>\n",
       "      <td>73.0</td>\n",
       "      <td>73.0</td>\n",
       "      <td>73.0</td>\n",
       "      <td>73.0</td>\n",
       "      <td>73.0</td>\n",
       "      <td>5920.5</td>\n",
       "    </tr>\n",
       "    <tr>\n",
       "      <th>2</th>\n",
       "      <td>Arica y Parinacota</td>\n",
       "      <td>15</td>\n",
       "      <td>General Lagos</td>\n",
       "      <td>15202.0</td>\n",
       "      <td>810.0</td>\n",
       "      <td>0.0</td>\n",
       "      <td>0.0</td>\n",
       "      <td>0.0</td>\n",
       "      <td>0.0</td>\n",
       "      <td>0.0</td>\n",
       "      <td>...</td>\n",
       "      <td>88.0</td>\n",
       "      <td>88.0</td>\n",
       "      <td>88.0</td>\n",
       "      <td>88.0</td>\n",
       "      <td>88.0</td>\n",
       "      <td>88.0</td>\n",
       "      <td>88.0</td>\n",
       "      <td>88.0</td>\n",
       "      <td>88.0</td>\n",
       "      <td>10864.2</td>\n",
       "    </tr>\n",
       "    <tr>\n",
       "      <th>3</th>\n",
       "      <td>Arica y Parinacota</td>\n",
       "      <td>15</td>\n",
       "      <td>Putre</td>\n",
       "      <td>15201.0</td>\n",
       "      <td>2515.0</td>\n",
       "      <td>0.0</td>\n",
       "      <td>0.0</td>\n",
       "      <td>0.0</td>\n",
       "      <td>0.0</td>\n",
       "      <td>0.0</td>\n",
       "      <td>...</td>\n",
       "      <td>216.0</td>\n",
       "      <td>216.0</td>\n",
       "      <td>216.0</td>\n",
       "      <td>217.0</td>\n",
       "      <td>216.0</td>\n",
       "      <td>217.0</td>\n",
       "      <td>217.0</td>\n",
       "      <td>217.0</td>\n",
       "      <td>217.0</td>\n",
       "      <td>8628.2</td>\n",
       "    </tr>\n",
       "    <tr>\n",
       "      <th>4</th>\n",
       "      <td>Arica y Parinacota</td>\n",
       "      <td>15</td>\n",
       "      <td>Desconocido Arica y Parinacota</td>\n",
       "      <td>NaN</td>\n",
       "      <td>NaN</td>\n",
       "      <td>NaN</td>\n",
       "      <td>NaN</td>\n",
       "      <td>NaN</td>\n",
       "      <td>NaN</td>\n",
       "      <td>NaN</td>\n",
       "      <td>...</td>\n",
       "      <td>211.0</td>\n",
       "      <td>211.0</td>\n",
       "      <td>212.0</td>\n",
       "      <td>213.0</td>\n",
       "      <td>214.0</td>\n",
       "      <td>215.0</td>\n",
       "      <td>225.0</td>\n",
       "      <td>230.0</td>\n",
       "      <td>233.0</td>\n",
       "      <td>NaN</td>\n",
       "    </tr>\n",
       "  </tbody>\n",
       "</table>\n",
       "<p>5 rows × 184 columns</p>\n",
       "</div>"
      ],
      "text/plain": [
       "               Region  Codigo region                          Comuna  \\\n",
       "0  Arica y Parinacota             15                           Arica   \n",
       "1  Arica y Parinacota             15                       Camarones   \n",
       "2  Arica y Parinacota             15                   General Lagos   \n",
       "3  Arica y Parinacota             15                           Putre   \n",
       "4  Arica y Parinacota             15  Desconocido Arica y Parinacota   \n",
       "\n",
       "   Codigo comuna  Poblacion  2020-03-30  2020-04-01  2020-04-03  2020-04-06  \\\n",
       "0        15101.0   247552.0         6.0         6.0        12.0        41.0   \n",
       "1        15102.0     1233.0         0.0         0.0         0.0         0.0   \n",
       "2        15202.0      810.0         0.0         0.0         0.0         0.0   \n",
       "3        15201.0     2515.0         0.0         0.0         0.0         0.0   \n",
       "4            NaN        NaN         NaN         NaN         NaN         NaN   \n",
       "\n",
       "   2020-04-08  ...  2021-11-05  2021-11-08  2021-11-12  2021-11-15  \\\n",
       "0        63.0  ...     31125.0     31208.0     31361.0     31438.0   \n",
       "1         0.0  ...        73.0        73.0        73.0        73.0   \n",
       "2         0.0  ...        88.0        88.0        88.0        88.0   \n",
       "3         0.0  ...       216.0       216.0       216.0       217.0   \n",
       "4         NaN  ...       211.0       211.0       212.0       213.0   \n",
       "\n",
       "   2021-11-19  2021-11-22  2021-11-26  2021-11-29  2021-12-03     Tasa  \n",
       "0     31519.0     31566.0     31643.0     31662.0     31713.0  12810.6  \n",
       "1        73.0        73.0        73.0        73.0        73.0   5920.5  \n",
       "2        88.0        88.0        88.0        88.0        88.0  10864.2  \n",
       "3       216.0       217.0       217.0       217.0       217.0   8628.2  \n",
       "4       214.0       215.0       225.0       230.0       233.0      NaN  \n",
       "\n",
       "[5 rows x 184 columns]"
      ]
     },
     "execution_count": 84,
     "metadata": {},
     "output_type": "execute_result"
    }
   ],
   "source": [
    "poblacion1_df.head() #Se comprueba la extraccion correcta de los datos"
   ]
  },
  {
   "cell_type": "code",
   "execution_count": 86,
   "id": "7e73943a-27f5-43f0-9a92-4aa0df5e97d6",
   "metadata": {},
   "outputs": [],
   "source": [
    "#Eliminar columnas que no usaremos\n",
    "poblacion_df = poblacion1_df [['Codigo region', 'Codigo comuna', 'Region', 'Comuna', 'Poblacion']] "
   ]
  },
  {
   "cell_type": "code",
   "execution_count": 87,
   "id": "68e11cfd-74a7-4601-a13c-f2a06a015ee6",
   "metadata": {},
   "outputs": [
    {
     "data": {
      "text/html": [
       "<div>\n",
       "<style scoped>\n",
       "    .dataframe tbody tr th:only-of-type {\n",
       "        vertical-align: middle;\n",
       "    }\n",
       "\n",
       "    .dataframe tbody tr th {\n",
       "        vertical-align: top;\n",
       "    }\n",
       "\n",
       "    .dataframe thead th {\n",
       "        text-align: right;\n",
       "    }\n",
       "</style>\n",
       "<table border=\"1\" class=\"dataframe\">\n",
       "  <thead>\n",
       "    <tr style=\"text-align: right;\">\n",
       "      <th></th>\n",
       "      <th>Codigo region</th>\n",
       "      <th>Codigo comuna</th>\n",
       "      <th>Region</th>\n",
       "      <th>Comuna</th>\n",
       "      <th>Poblacion</th>\n",
       "    </tr>\n",
       "  </thead>\n",
       "  <tbody>\n",
       "    <tr>\n",
       "      <th>0</th>\n",
       "      <td>15</td>\n",
       "      <td>15101.0</td>\n",
       "      <td>Arica y Parinacota</td>\n",
       "      <td>Arica</td>\n",
       "      <td>247552.0</td>\n",
       "    </tr>\n",
       "    <tr>\n",
       "      <th>1</th>\n",
       "      <td>15</td>\n",
       "      <td>15102.0</td>\n",
       "      <td>Arica y Parinacota</td>\n",
       "      <td>Camarones</td>\n",
       "      <td>1233.0</td>\n",
       "    </tr>\n",
       "    <tr>\n",
       "      <th>2</th>\n",
       "      <td>15</td>\n",
       "      <td>15202.0</td>\n",
       "      <td>Arica y Parinacota</td>\n",
       "      <td>General Lagos</td>\n",
       "      <td>810.0</td>\n",
       "    </tr>\n",
       "    <tr>\n",
       "      <th>3</th>\n",
       "      <td>15</td>\n",
       "      <td>15201.0</td>\n",
       "      <td>Arica y Parinacota</td>\n",
       "      <td>Putre</td>\n",
       "      <td>2515.0</td>\n",
       "    </tr>\n",
       "    <tr>\n",
       "      <th>4</th>\n",
       "      <td>15</td>\n",
       "      <td>NaN</td>\n",
       "      <td>Arica y Parinacota</td>\n",
       "      <td>Desconocido Arica y Parinacota</td>\n",
       "      <td>NaN</td>\n",
       "    </tr>\n",
       "  </tbody>\n",
       "</table>\n",
       "</div>"
      ],
      "text/plain": [
       "   Codigo region  Codigo comuna              Region  \\\n",
       "0             15        15101.0  Arica y Parinacota   \n",
       "1             15        15102.0  Arica y Parinacota   \n",
       "2             15        15202.0  Arica y Parinacota   \n",
       "3             15        15201.0  Arica y Parinacota   \n",
       "4             15            NaN  Arica y Parinacota   \n",
       "\n",
       "                           Comuna  Poblacion  \n",
       "0                           Arica   247552.0  \n",
       "1                       Camarones     1233.0  \n",
       "2                   General Lagos      810.0  \n",
       "3                           Putre     2515.0  \n",
       "4  Desconocido Arica y Parinacota        NaN  "
      ]
     },
     "execution_count": 87,
     "metadata": {},
     "output_type": "execute_result"
    }
   ],
   "source": [
    "poblacion_df.head()"
   ]
  },
  {
   "cell_type": "code",
   "execution_count": 88,
   "id": "479afc79-2ae6-48f4-bf4c-b1dba0de5b01",
   "metadata": {},
   "outputs": [],
   "source": [
    "#Cambiar el nombre de Codigo region por Region para coincidir con cuarentenareal\n",
    "#Se eliminn NaN en Poblacion y comuna\n",
    "poblacion_df = poblacion_df.rename(columns = {'Region': 'Nombre', 'Codigo region': 'Region'}, inplace = False)\n",
    "poblacion_df = poblacion_df.dropna()"
   ]
  },
  {
   "cell_type": "code",
   "execution_count": 89,
   "id": "60e67abd-8985-445e-af8e-b4182baf8379",
   "metadata": {},
   "outputs": [
    {
     "data": {
      "text/html": [
       "<div>\n",
       "<style scoped>\n",
       "    .dataframe tbody tr th:only-of-type {\n",
       "        vertical-align: middle;\n",
       "    }\n",
       "\n",
       "    .dataframe tbody tr th {\n",
       "        vertical-align: top;\n",
       "    }\n",
       "\n",
       "    .dataframe thead th {\n",
       "        text-align: right;\n",
       "    }\n",
       "</style>\n",
       "<table border=\"1\" class=\"dataframe\">\n",
       "  <thead>\n",
       "    <tr style=\"text-align: right;\">\n",
       "      <th></th>\n",
       "      <th>Region</th>\n",
       "      <th>Codigo comuna</th>\n",
       "      <th>Nombre</th>\n",
       "      <th>Comuna</th>\n",
       "      <th>Poblacion</th>\n",
       "    </tr>\n",
       "  </thead>\n",
       "  <tbody>\n",
       "    <tr>\n",
       "      <th>0</th>\n",
       "      <td>15</td>\n",
       "      <td>15101.0</td>\n",
       "      <td>Arica y Parinacota</td>\n",
       "      <td>Arica</td>\n",
       "      <td>247552.0</td>\n",
       "    </tr>\n",
       "    <tr>\n",
       "      <th>1</th>\n",
       "      <td>15</td>\n",
       "      <td>15102.0</td>\n",
       "      <td>Arica y Parinacota</td>\n",
       "      <td>Camarones</td>\n",
       "      <td>1233.0</td>\n",
       "    </tr>\n",
       "    <tr>\n",
       "      <th>2</th>\n",
       "      <td>15</td>\n",
       "      <td>15202.0</td>\n",
       "      <td>Arica y Parinacota</td>\n",
       "      <td>General Lagos</td>\n",
       "      <td>810.0</td>\n",
       "    </tr>\n",
       "    <tr>\n",
       "      <th>3</th>\n",
       "      <td>15</td>\n",
       "      <td>15201.0</td>\n",
       "      <td>Arica y Parinacota</td>\n",
       "      <td>Putre</td>\n",
       "      <td>2515.0</td>\n",
       "    </tr>\n",
       "    <tr>\n",
       "      <th>5</th>\n",
       "      <td>1</td>\n",
       "      <td>1107.0</td>\n",
       "      <td>Tarapacá</td>\n",
       "      <td>Alto Hospicio</td>\n",
       "      <td>129999.0</td>\n",
       "    </tr>\n",
       "  </tbody>\n",
       "</table>\n",
       "</div>"
      ],
      "text/plain": [
       "   Region  Codigo comuna              Nombre         Comuna  Poblacion\n",
       "0      15        15101.0  Arica y Parinacota          Arica   247552.0\n",
       "1      15        15102.0  Arica y Parinacota      Camarones     1233.0\n",
       "2      15        15202.0  Arica y Parinacota  General Lagos      810.0\n",
       "3      15        15201.0  Arica y Parinacota          Putre     2515.0\n",
       "5       1         1107.0            Tarapacá  Alto Hospicio   129999.0"
      ]
     },
     "execution_count": 89,
     "metadata": {},
     "output_type": "execute_result"
    }
   ],
   "source": [
    "poblacion_df.head()"
   ]
  },
  {
   "cell_type": "code",
   "execution_count": 16,
   "id": "dcecf9e4-56ff-433d-904f-3111be443835",
   "metadata": {},
   "outputs": [
    {
     "data": {
      "text/plain": [
       "0      15101\n",
       "1      15102\n",
       "2      15202\n",
       "3      15201\n",
       "5       1107\n",
       "       ...  \n",
       "356    12101\n",
       "357    12103\n",
       "358    12104\n",
       "359    12303\n",
       "360    12402\n",
       "Name: Codigo comuna, Length: 346, dtype: int32"
      ]
     },
     "execution_count": 16,
     "metadata": {},
     "output_type": "execute_result"
    }
   ],
   "source": [
    "poblacion_df['Codigo comuna'].astype(int)"
   ]
  },
  {
   "cell_type": "code",
   "execution_count": 90,
   "id": "ac943f57-0d73-4ecb-8859-d4f8b527f885",
   "metadata": {},
   "outputs": [
    {
     "data": {
      "text/html": [
       "<div>\n",
       "<style scoped>\n",
       "    .dataframe tbody tr th:only-of-type {\n",
       "        vertical-align: middle;\n",
       "    }\n",
       "\n",
       "    .dataframe tbody tr th {\n",
       "        vertical-align: top;\n",
       "    }\n",
       "\n",
       "    .dataframe thead th {\n",
       "        text-align: right;\n",
       "    }\n",
       "</style>\n",
       "<table border=\"1\" class=\"dataframe\">\n",
       "  <thead>\n",
       "    <tr style=\"text-align: right;\">\n",
       "      <th></th>\n",
       "      <th>ID</th>\n",
       "      <th>Nombre_x</th>\n",
       "      <th>Fecha de Inicio</th>\n",
       "      <th>Fecha de Término</th>\n",
       "      <th>Codigo comuna</th>\n",
       "      <th>Region_x</th>\n",
       "      <th>Region_y</th>\n",
       "      <th>Nombre_y</th>\n",
       "      <th>Comuna</th>\n",
       "      <th>Poblacion</th>\n",
       "    </tr>\n",
       "  </thead>\n",
       "  <tbody>\n",
       "    <tr>\n",
       "      <th>0</th>\n",
       "      <td>1</td>\n",
       "      <td>Arica</td>\n",
       "      <td>2020-04-16 22:00:00</td>\n",
       "      <td>2020-05-15 22:00:00</td>\n",
       "      <td>15101</td>\n",
       "      <td>15</td>\n",
       "      <td>15</td>\n",
       "      <td>Arica y Parinacota</td>\n",
       "      <td>Arica</td>\n",
       "      <td>247552.0</td>\n",
       "    </tr>\n",
       "    <tr>\n",
       "      <th>1</th>\n",
       "      <td>99</td>\n",
       "      <td>Arica Re-Ingreso urbano</td>\n",
       "      <td>2020-07-14 22:00:00</td>\n",
       "      <td>2020-11-09 05:00:00</td>\n",
       "      <td>15101</td>\n",
       "      <td>15</td>\n",
       "      <td>15</td>\n",
       "      <td>Arica y Parinacota</td>\n",
       "      <td>Arica</td>\n",
       "      <td>247552.0</td>\n",
       "    </tr>\n",
       "    <tr>\n",
       "      <th>2</th>\n",
       "      <td>2</td>\n",
       "      <td>Santiago Norte</td>\n",
       "      <td>2020-04-13 05:00:00</td>\n",
       "      <td>2020-05-05 22:00:00</td>\n",
       "      <td>13101</td>\n",
       "      <td>13</td>\n",
       "      <td>13</td>\n",
       "      <td>Metropolitana</td>\n",
       "      <td>Santiago</td>\n",
       "      <td>503147.0</td>\n",
       "    </tr>\n",
       "    <tr>\n",
       "      <th>3</th>\n",
       "      <td>18</td>\n",
       "      <td>Santiago</td>\n",
       "      <td>2020-03-26 21:00:00</td>\n",
       "      <td>2020-04-13 05:00:00</td>\n",
       "      <td>13101</td>\n",
       "      <td>13</td>\n",
       "      <td>13</td>\n",
       "      <td>Metropolitana</td>\n",
       "      <td>Santiago</td>\n",
       "      <td>503147.0</td>\n",
       "    </tr>\n",
       "    <tr>\n",
       "      <th>4</th>\n",
       "      <td>40</td>\n",
       "      <td>Santiago Extensión a Total</td>\n",
       "      <td>2020-05-05 22:00:00</td>\n",
       "      <td>2020-08-17 05:00:00</td>\n",
       "      <td>13101</td>\n",
       "      <td>13</td>\n",
       "      <td>13</td>\n",
       "      <td>Metropolitana</td>\n",
       "      <td>Santiago</td>\n",
       "      <td>503147.0</td>\n",
       "    </tr>\n",
       "  </tbody>\n",
       "</table>\n",
       "</div>"
      ],
      "text/plain": [
       "   ID                    Nombre_x      Fecha de Inicio     Fecha de Término  \\\n",
       "0   1                       Arica  2020-04-16 22:00:00  2020-05-15 22:00:00   \n",
       "1  99     Arica Re-Ingreso urbano  2020-07-14 22:00:00  2020-11-09 05:00:00   \n",
       "2   2              Santiago Norte  2020-04-13 05:00:00  2020-05-05 22:00:00   \n",
       "3  18                    Santiago  2020-03-26 21:00:00  2020-04-13 05:00:00   \n",
       "4  40  Santiago Extensión a Total  2020-05-05 22:00:00  2020-08-17 05:00:00   \n",
       "\n",
       "   Codigo comuna  Region_x  Region_y            Nombre_y    Comuna  Poblacion  \n",
       "0          15101        15        15  Arica y Parinacota     Arica   247552.0  \n",
       "1          15101        15        15  Arica y Parinacota     Arica   247552.0  \n",
       "2          13101        13        13       Metropolitana  Santiago   503147.0  \n",
       "3          13101        13        13       Metropolitana  Santiago   503147.0  \n",
       "4          13101        13        13       Metropolitana  Santiago   503147.0  "
      ]
     },
     "execution_count": 90,
     "metadata": {},
     "output_type": "execute_result"
    }
   ],
   "source": [
    "df = cuarentenareal_df.merge(poblacion_df, on='Codigo comuna')\n",
    "df.head()\n",
    "#Combinar cuarentenareal con poblacion por Codigo de comuna"
   ]
  },
  {
   "cell_type": "code",
   "execution_count": 94,
   "id": "ee3f750c-4985-4636-8f78-7fa18382d893",
   "metadata": {},
   "outputs": [],
   "source": [
    "#Ordenar\n",
    "df_1 = df.drop(columns='Region_y')\n",
    "df_2 = df_1.drop(columns='Nombre_y')\n",
    "df_real = df_2.rename(columns = {'Nombre_x': 'Nombre', 'Region_x': 'Region'}, inplace = False)"
   ]
  },
  {
   "cell_type": "code",
   "execution_count": 96,
   "id": "ed9a964a-9c59-4a63-a8ea-124105c02a22",
   "metadata": {},
   "outputs": [
    {
     "data": {
      "text/html": [
       "<div>\n",
       "<style scoped>\n",
       "    .dataframe tbody tr th:only-of-type {\n",
       "        vertical-align: middle;\n",
       "    }\n",
       "\n",
       "    .dataframe tbody tr th {\n",
       "        vertical-align: top;\n",
       "    }\n",
       "\n",
       "    .dataframe thead th {\n",
       "        text-align: right;\n",
       "    }\n",
       "</style>\n",
       "<table border=\"1\" class=\"dataframe\">\n",
       "  <thead>\n",
       "    <tr style=\"text-align: right;\">\n",
       "      <th></th>\n",
       "      <th>ID</th>\n",
       "      <th>Nombre</th>\n",
       "      <th>Fecha de Inicio</th>\n",
       "      <th>Fecha de Término</th>\n",
       "      <th>Codigo comuna</th>\n",
       "      <th>Region</th>\n",
       "      <th>Comuna</th>\n",
       "      <th>Poblacion</th>\n",
       "    </tr>\n",
       "  </thead>\n",
       "  <tbody>\n",
       "    <tr>\n",
       "      <th>0</th>\n",
       "      <td>1</td>\n",
       "      <td>Arica</td>\n",
       "      <td>2020-04-16 22:00:00</td>\n",
       "      <td>2020-05-15 22:00:00</td>\n",
       "      <td>15101</td>\n",
       "      <td>15</td>\n",
       "      <td>Arica</td>\n",
       "      <td>247552.0</td>\n",
       "    </tr>\n",
       "    <tr>\n",
       "      <th>1</th>\n",
       "      <td>99</td>\n",
       "      <td>Arica Re-Ingreso urbano</td>\n",
       "      <td>2020-07-14 22:00:00</td>\n",
       "      <td>2020-11-09 05:00:00</td>\n",
       "      <td>15101</td>\n",
       "      <td>15</td>\n",
       "      <td>Arica</td>\n",
       "      <td>247552.0</td>\n",
       "    </tr>\n",
       "    <tr>\n",
       "      <th>2</th>\n",
       "      <td>2</td>\n",
       "      <td>Santiago Norte</td>\n",
       "      <td>2020-04-13 05:00:00</td>\n",
       "      <td>2020-05-05 22:00:00</td>\n",
       "      <td>13101</td>\n",
       "      <td>13</td>\n",
       "      <td>Santiago</td>\n",
       "      <td>503147.0</td>\n",
       "    </tr>\n",
       "    <tr>\n",
       "      <th>3</th>\n",
       "      <td>18</td>\n",
       "      <td>Santiago</td>\n",
       "      <td>2020-03-26 21:00:00</td>\n",
       "      <td>2020-04-13 05:00:00</td>\n",
       "      <td>13101</td>\n",
       "      <td>13</td>\n",
       "      <td>Santiago</td>\n",
       "      <td>503147.0</td>\n",
       "    </tr>\n",
       "    <tr>\n",
       "      <th>4</th>\n",
       "      <td>40</td>\n",
       "      <td>Santiago Extensión a Total</td>\n",
       "      <td>2020-05-05 22:00:00</td>\n",
       "      <td>2020-08-17 05:00:00</td>\n",
       "      <td>13101</td>\n",
       "      <td>13</td>\n",
       "      <td>Santiago</td>\n",
       "      <td>503147.0</td>\n",
       "    </tr>\n",
       "  </tbody>\n",
       "</table>\n",
       "</div>"
      ],
      "text/plain": [
       "   ID                      Nombre      Fecha de Inicio     Fecha de Término  \\\n",
       "0   1                       Arica  2020-04-16 22:00:00  2020-05-15 22:00:00   \n",
       "1  99     Arica Re-Ingreso urbano  2020-07-14 22:00:00  2020-11-09 05:00:00   \n",
       "2   2              Santiago Norte  2020-04-13 05:00:00  2020-05-05 22:00:00   \n",
       "3  18                    Santiago  2020-03-26 21:00:00  2020-04-13 05:00:00   \n",
       "4  40  Santiago Extensión a Total  2020-05-05 22:00:00  2020-08-17 05:00:00   \n",
       "\n",
       "   Codigo comuna  Region    Comuna  Poblacion  \n",
       "0          15101      15     Arica   247552.0  \n",
       "1          15101      15     Arica   247552.0  \n",
       "2          13101      13  Santiago   503147.0  \n",
       "3          13101      13  Santiago   503147.0  \n",
       "4          13101      13  Santiago   503147.0  "
      ]
     },
     "execution_count": 96,
     "metadata": {},
     "output_type": "execute_result"
    }
   ],
   "source": [
    "df_real.head() #comprobamos que se hayan cambiado correctamente"
   ]
  },
  {
   "cell_type": "code",
   "execution_count": null,
   "id": "401fff00-40ae-4f8c-a5af-3ac0ce0ec884",
   "metadata": {},
   "outputs": [],
   "source": []
  },
  {
   "cell_type": "code",
   "execution_count": 97,
   "id": "ea10a915-c10e-4fe2-b9a1-329101cdc66e",
   "metadata": {},
   "outputs": [],
   "source": [
    "#Cambiar la fecha a date, y la poblacion de float a int\n",
    "df_real['Poblacion'] = df_real['Poblacion'].astype(int)\n",
    "df_real['Fecha de Inicio'] = pd.to_datetime(df_real['Fecha de Inicio']) \n",
    "df_real['Fecha de Término'] = pd.to_datetime(df_1['Fecha de Término']) "
   ]
  },
  {
   "cell_type": "code",
   "execution_count": 98,
   "id": "65493578-aa2e-4601-82d6-698bb88f33bc",
   "metadata": {},
   "outputs": [],
   "source": [
    "#Eliminar horarios de fechas\n",
    "df_real['Fecha de Inicio'] = df_real['Fecha de Inicio'].dt.date\n",
    "df_real['Fecha de Término'] = df_real['Fecha de Término'].dt.date\n"
   ]
  },
  {
   "cell_type": "code",
   "execution_count": 99,
   "id": "bcbd0857-88a6-49a4-b8c9-47de579a3db5",
   "metadata": {},
   "outputs": [
    {
     "name": "stdout",
     "output_type": "stream",
     "text": [
      "<class 'pandas.core.frame.DataFrame'>\n",
      "Int64Index: 187 entries, 0 to 186\n",
      "Data columns (total 8 columns):\n",
      " #   Column            Non-Null Count  Dtype \n",
      "---  ------            --------------  ----- \n",
      " 0   ID                187 non-null    int64 \n",
      " 1   Nombre            187 non-null    object\n",
      " 2   Fecha de Inicio   187 non-null    object\n",
      " 3   Fecha de Término  187 non-null    object\n",
      " 4   Codigo comuna     187 non-null    int64 \n",
      " 5   Region            187 non-null    int64 \n",
      " 6   Comuna            187 non-null    object\n",
      " 7   Poblacion         187 non-null    int32 \n",
      "dtypes: int32(1), int64(3), object(4)\n",
      "memory usage: 12.4+ KB\n"
     ]
    }
   ],
   "source": [
    "df_real.info()  #ver que la poblcion haya cambiado a int"
   ]
  },
  {
   "cell_type": "code",
   "execution_count": 100,
   "id": "e44b5ca3-9466-4bb5-bab0-37803280d13e",
   "metadata": {},
   "outputs": [],
   "source": [
    "#Repetir el codigo para cambiar formato fecha para volver de obj a date\n",
    "df_real['Fecha de Inicio'] = pd.to_datetime(df_real['Fecha de Inicio'])\n",
    "df_real['Fecha de Término'] = pd.to_datetime(df_real['Fecha de Término'])"
   ]
  },
  {
   "cell_type": "code",
   "execution_count": 102,
   "id": "f6488046-6c2c-4c2a-9645-ae6304bf9a9c",
   "metadata": {},
   "outputs": [
    {
     "name": "stdout",
     "output_type": "stream",
     "text": [
      "<class 'pandas.core.frame.DataFrame'>\n",
      "Int64Index: 187 entries, 0 to 186\n",
      "Data columns (total 8 columns):\n",
      " #   Column            Non-Null Count  Dtype         \n",
      "---  ------            --------------  -----         \n",
      " 0   ID                187 non-null    int64         \n",
      " 1   Nombre            187 non-null    object        \n",
      " 2   Fecha de Inicio   187 non-null    datetime64[ns]\n",
      " 3   Fecha de Término  187 non-null    datetime64[ns]\n",
      " 4   Codigo comuna     187 non-null    int64         \n",
      " 5   Region            187 non-null    int64         \n",
      " 6   Comuna            187 non-null    object        \n",
      " 7   Poblacion         187 non-null    int32         \n",
      "dtypes: datetime64[ns](2), int32(1), int64(3), object(2)\n",
      "memory usage: 12.4+ KB\n"
     ]
    }
   ],
   "source": [
    "df_real.info()"
   ]
  },
  {
   "cell_type": "code",
   "execution_count": 103,
   "id": "9f5e354d-da13-4d0d-a9b7-eb244e41dfc2",
   "metadata": {},
   "outputs": [
    {
     "data": {
      "text/html": [
       "<div>\n",
       "<style scoped>\n",
       "    .dataframe tbody tr th:only-of-type {\n",
       "        vertical-align: middle;\n",
       "    }\n",
       "\n",
       "    .dataframe tbody tr th {\n",
       "        vertical-align: top;\n",
       "    }\n",
       "\n",
       "    .dataframe thead th {\n",
       "        text-align: right;\n",
       "    }\n",
       "</style>\n",
       "<table border=\"1\" class=\"dataframe\">\n",
       "  <thead>\n",
       "    <tr style=\"text-align: right;\">\n",
       "      <th></th>\n",
       "      <th>ID</th>\n",
       "      <th>Nombre</th>\n",
       "      <th>Fecha de Inicio</th>\n",
       "      <th>Fecha de Término</th>\n",
       "      <th>Codigo comuna</th>\n",
       "      <th>Region</th>\n",
       "      <th>Comuna</th>\n",
       "      <th>Poblacion</th>\n",
       "    </tr>\n",
       "  </thead>\n",
       "  <tbody>\n",
       "    <tr>\n",
       "      <th>0</th>\n",
       "      <td>1</td>\n",
       "      <td>Arica</td>\n",
       "      <td>2020-04-16</td>\n",
       "      <td>2020-05-15</td>\n",
       "      <td>15101</td>\n",
       "      <td>15</td>\n",
       "      <td>Arica</td>\n",
       "      <td>247552</td>\n",
       "    </tr>\n",
       "    <tr>\n",
       "      <th>1</th>\n",
       "      <td>99</td>\n",
       "      <td>Arica Re-Ingreso urbano</td>\n",
       "      <td>2020-07-14</td>\n",
       "      <td>2020-11-09</td>\n",
       "      <td>15101</td>\n",
       "      <td>15</td>\n",
       "      <td>Arica</td>\n",
       "      <td>247552</td>\n",
       "    </tr>\n",
       "    <tr>\n",
       "      <th>2</th>\n",
       "      <td>2</td>\n",
       "      <td>Santiago Norte</td>\n",
       "      <td>2020-04-13</td>\n",
       "      <td>2020-05-05</td>\n",
       "      <td>13101</td>\n",
       "      <td>13</td>\n",
       "      <td>Santiago</td>\n",
       "      <td>503147</td>\n",
       "    </tr>\n",
       "    <tr>\n",
       "      <th>3</th>\n",
       "      <td>18</td>\n",
       "      <td>Santiago</td>\n",
       "      <td>2020-03-26</td>\n",
       "      <td>2020-04-13</td>\n",
       "      <td>13101</td>\n",
       "      <td>13</td>\n",
       "      <td>Santiago</td>\n",
       "      <td>503147</td>\n",
       "    </tr>\n",
       "    <tr>\n",
       "      <th>4</th>\n",
       "      <td>40</td>\n",
       "      <td>Santiago Extensión a Total</td>\n",
       "      <td>2020-05-05</td>\n",
       "      <td>2020-08-17</td>\n",
       "      <td>13101</td>\n",
       "      <td>13</td>\n",
       "      <td>Santiago</td>\n",
       "      <td>503147</td>\n",
       "    </tr>\n",
       "  </tbody>\n",
       "</table>\n",
       "</div>"
      ],
      "text/plain": [
       "   ID                      Nombre Fecha de Inicio Fecha de Término  \\\n",
       "0   1                       Arica      2020-04-16       2020-05-15   \n",
       "1  99     Arica Re-Ingreso urbano      2020-07-14       2020-11-09   \n",
       "2   2              Santiago Norte      2020-04-13       2020-05-05   \n",
       "3  18                    Santiago      2020-03-26       2020-04-13   \n",
       "4  40  Santiago Extensión a Total      2020-05-05       2020-08-17   \n",
       "\n",
       "   Codigo comuna  Region    Comuna  Poblacion  \n",
       "0          15101      15     Arica     247552  \n",
       "1          15101      15     Arica     247552  \n",
       "2          13101      13  Santiago     503147  \n",
       "3          13101      13  Santiago     503147  \n",
       "4          13101      13  Santiago     503147  "
      ]
     },
     "execution_count": 103,
     "metadata": {},
     "output_type": "execute_result"
    }
   ],
   "source": [
    "df_real.head()"
   ]
  },
  {
   "cell_type": "code",
   "execution_count": 104,
   "id": "7d64cf45-5b01-4f11-b52f-495362e973f7",
   "metadata": {},
   "outputs": [],
   "source": [
    "#Cambiar fechas DD / MM / AA\n",
    "df_real['Fecha de Inicio'] = df_real['Fecha de Inicio'].dt.strftime('%d-%m-%Y')\n",
    "df_real['Fecha de Término'] = df_real['Fecha de Término'].dt.strftime('%d-%m-%Y')"
   ]
  },
  {
   "cell_type": "code",
   "execution_count": 105,
   "id": "e09dd322-9bbf-40f9-9699-c87cc2df5f8c",
   "metadata": {},
   "outputs": [
    {
     "data": {
      "text/html": [
       "<div>\n",
       "<style scoped>\n",
       "    .dataframe tbody tr th:only-of-type {\n",
       "        vertical-align: middle;\n",
       "    }\n",
       "\n",
       "    .dataframe tbody tr th {\n",
       "        vertical-align: top;\n",
       "    }\n",
       "\n",
       "    .dataframe thead th {\n",
       "        text-align: right;\n",
       "    }\n",
       "</style>\n",
       "<table border=\"1\" class=\"dataframe\">\n",
       "  <thead>\n",
       "    <tr style=\"text-align: right;\">\n",
       "      <th></th>\n",
       "      <th>Fecha de Inicio</th>\n",
       "      <th>Fecha de Término</th>\n",
       "    </tr>\n",
       "  </thead>\n",
       "  <tbody>\n",
       "    <tr>\n",
       "      <th>0</th>\n",
       "      <td>16-04-2020</td>\n",
       "      <td>15-05-2020</td>\n",
       "    </tr>\n",
       "    <tr>\n",
       "      <th>1</th>\n",
       "      <td>14-07-2020</td>\n",
       "      <td>09-11-2020</td>\n",
       "    </tr>\n",
       "    <tr>\n",
       "      <th>2</th>\n",
       "      <td>13-04-2020</td>\n",
       "      <td>05-05-2020</td>\n",
       "    </tr>\n",
       "    <tr>\n",
       "      <th>3</th>\n",
       "      <td>26-03-2020</td>\n",
       "      <td>13-04-2020</td>\n",
       "    </tr>\n",
       "    <tr>\n",
       "      <th>4</th>\n",
       "      <td>05-05-2020</td>\n",
       "      <td>17-08-2020</td>\n",
       "    </tr>\n",
       "    <tr>\n",
       "      <th>...</th>\n",
       "      <td>...</td>\n",
       "      <td>...</td>\n",
       "    </tr>\n",
       "    <tr>\n",
       "      <th>182</th>\n",
       "      <td>10-12-2020</td>\n",
       "      <td>25-12-2020</td>\n",
       "    </tr>\n",
       "    <tr>\n",
       "      <th>183</th>\n",
       "      <td>10-12-2020</td>\n",
       "      <td>23-12-2020</td>\n",
       "    </tr>\n",
       "    <tr>\n",
       "      <th>184</th>\n",
       "      <td>12-12-2020</td>\n",
       "      <td>25-12-2020</td>\n",
       "    </tr>\n",
       "    <tr>\n",
       "      <th>185</th>\n",
       "      <td>12-12-2020</td>\n",
       "      <td>23-12-2020</td>\n",
       "    </tr>\n",
       "    <tr>\n",
       "      <th>186</th>\n",
       "      <td>12-12-2020</td>\n",
       "      <td>23-12-2020</td>\n",
       "    </tr>\n",
       "  </tbody>\n",
       "</table>\n",
       "<p>187 rows × 2 columns</p>\n",
       "</div>"
      ],
      "text/plain": [
       "    Fecha de Inicio Fecha de Término\n",
       "0        16-04-2020       15-05-2020\n",
       "1        14-07-2020       09-11-2020\n",
       "2        13-04-2020       05-05-2020\n",
       "3        26-03-2020       13-04-2020\n",
       "4        05-05-2020       17-08-2020\n",
       "..              ...              ...\n",
       "182      10-12-2020       25-12-2020\n",
       "183      10-12-2020       23-12-2020\n",
       "184      12-12-2020       25-12-2020\n",
       "185      12-12-2020       23-12-2020\n",
       "186      12-12-2020       23-12-2020\n",
       "\n",
       "[187 rows x 2 columns]"
      ]
     },
     "execution_count": 105,
     "metadata": {},
     "output_type": "execute_result"
    }
   ],
   "source": [
    "df_real[['Fecha de Inicio','Fecha de Término']]"
   ]
  },
  {
   "cell_type": "code",
   "execution_count": 106,
   "id": "6692de02-ffc3-498c-8aea-0462469bc322",
   "metadata": {},
   "outputs": [
    {
     "data": {
      "text/html": [
       "<div>\n",
       "<style scoped>\n",
       "    .dataframe tbody tr th:only-of-type {\n",
       "        vertical-align: middle;\n",
       "    }\n",
       "\n",
       "    .dataframe tbody tr th {\n",
       "        vertical-align: top;\n",
       "    }\n",
       "\n",
       "    .dataframe thead th {\n",
       "        text-align: right;\n",
       "    }\n",
       "</style>\n",
       "<table border=\"1\" class=\"dataframe\">\n",
       "  <thead>\n",
       "    <tr style=\"text-align: right;\">\n",
       "      <th></th>\n",
       "      <th>ID</th>\n",
       "      <th>Nombre</th>\n",
       "      <th>Fecha de Inicio</th>\n",
       "      <th>Fecha de Término</th>\n",
       "      <th>Codigo comuna</th>\n",
       "      <th>Region</th>\n",
       "      <th>Comuna</th>\n",
       "      <th>Poblacion</th>\n",
       "    </tr>\n",
       "  </thead>\n",
       "  <tbody>\n",
       "    <tr>\n",
       "      <th>0</th>\n",
       "      <td>1</td>\n",
       "      <td>Arica</td>\n",
       "      <td>16-04-2020</td>\n",
       "      <td>15-05-2020</td>\n",
       "      <td>15101</td>\n",
       "      <td>15</td>\n",
       "      <td>Arica</td>\n",
       "      <td>247552</td>\n",
       "    </tr>\n",
       "    <tr>\n",
       "      <th>1</th>\n",
       "      <td>99</td>\n",
       "      <td>Arica Re-Ingreso urbano</td>\n",
       "      <td>14-07-2020</td>\n",
       "      <td>09-11-2020</td>\n",
       "      <td>15101</td>\n",
       "      <td>15</td>\n",
       "      <td>Arica</td>\n",
       "      <td>247552</td>\n",
       "    </tr>\n",
       "    <tr>\n",
       "      <th>2</th>\n",
       "      <td>2</td>\n",
       "      <td>Santiago Norte</td>\n",
       "      <td>13-04-2020</td>\n",
       "      <td>05-05-2020</td>\n",
       "      <td>13101</td>\n",
       "      <td>13</td>\n",
       "      <td>Santiago</td>\n",
       "      <td>503147</td>\n",
       "    </tr>\n",
       "    <tr>\n",
       "      <th>3</th>\n",
       "      <td>18</td>\n",
       "      <td>Santiago</td>\n",
       "      <td>26-03-2020</td>\n",
       "      <td>13-04-2020</td>\n",
       "      <td>13101</td>\n",
       "      <td>13</td>\n",
       "      <td>Santiago</td>\n",
       "      <td>503147</td>\n",
       "    </tr>\n",
       "    <tr>\n",
       "      <th>4</th>\n",
       "      <td>40</td>\n",
       "      <td>Santiago Extensión a Total</td>\n",
       "      <td>05-05-2020</td>\n",
       "      <td>17-08-2020</td>\n",
       "      <td>13101</td>\n",
       "      <td>13</td>\n",
       "      <td>Santiago</td>\n",
       "      <td>503147</td>\n",
       "    </tr>\n",
       "  </tbody>\n",
       "</table>\n",
       "</div>"
      ],
      "text/plain": [
       "   ID                      Nombre Fecha de Inicio Fecha de Término  \\\n",
       "0   1                       Arica      16-04-2020       15-05-2020   \n",
       "1  99     Arica Re-Ingreso urbano      14-07-2020       09-11-2020   \n",
       "2   2              Santiago Norte      13-04-2020       05-05-2020   \n",
       "3  18                    Santiago      26-03-2020       13-04-2020   \n",
       "4  40  Santiago Extensión a Total      05-05-2020       17-08-2020   \n",
       "\n",
       "   Codigo comuna  Region    Comuna  Poblacion  \n",
       "0          15101      15     Arica     247552  \n",
       "1          15101      15     Arica     247552  \n",
       "2          13101      13  Santiago     503147  \n",
       "3          13101      13  Santiago     503147  \n",
       "4          13101      13  Santiago     503147  "
      ]
     },
     "execution_count": 106,
     "metadata": {},
     "output_type": "execute_result"
    }
   ],
   "source": [
    "df_real.head() #comprobamos en la df general"
   ]
  },
  {
   "cell_type": "code",
   "execution_count": 112,
   "id": "c9921d95-fbfd-4a97-bd60-ae058b6f0b62",
   "metadata": {},
   "outputs": [
    {
     "data": {
      "text/html": [
       "<div>\n",
       "<style scoped>\n",
       "    .dataframe tbody tr th:only-of-type {\n",
       "        vertical-align: middle;\n",
       "    }\n",
       "\n",
       "    .dataframe tbody tr th {\n",
       "        vertical-align: top;\n",
       "    }\n",
       "\n",
       "    .dataframe thead th {\n",
       "        text-align: right;\n",
       "    }\n",
       "</style>\n",
       "<table border=\"1\" class=\"dataframe\">\n",
       "  <thead>\n",
       "    <tr style=\"text-align: right;\">\n",
       "      <th></th>\n",
       "      <th>Region</th>\n",
       "      <th>Fecha de Inicio</th>\n",
       "      <th>Poblacion</th>\n",
       "    </tr>\n",
       "  </thead>\n",
       "  <tbody>\n",
       "    <tr>\n",
       "      <th>0</th>\n",
       "      <td>1</td>\n",
       "      <td>12-06-2020</td>\n",
       "      <td>17395</td>\n",
       "    </tr>\n",
       "    <tr>\n",
       "      <th>1</th>\n",
       "      <td>1</td>\n",
       "      <td>15-05-2020</td>\n",
       "      <td>353462</td>\n",
       "    </tr>\n",
       "    <tr>\n",
       "      <th>2</th>\n",
       "      <td>2</td>\n",
       "      <td>05-05-2020</td>\n",
       "      <td>440501</td>\n",
       "    </tr>\n",
       "    <tr>\n",
       "      <th>3</th>\n",
       "      <td>2</td>\n",
       "      <td>12-06-2020</td>\n",
       "      <td>190336</td>\n",
       "    </tr>\n",
       "    <tr>\n",
       "      <th>4</th>\n",
       "      <td>2</td>\n",
       "      <td>23-06-2020</td>\n",
       "      <td>468580</td>\n",
       "    </tr>\n",
       "    <tr>\n",
       "      <th>...</th>\n",
       "      <td>...</td>\n",
       "      <td>...</td>\n",
       "      <td>...</td>\n",
       "    </tr>\n",
       "    <tr>\n",
       "      <th>84</th>\n",
       "      <td>15</td>\n",
       "      <td>14-07-2020</td>\n",
       "      <td>247552</td>\n",
       "    </tr>\n",
       "    <tr>\n",
       "      <th>85</th>\n",
       "      <td>15</td>\n",
       "      <td>16-04-2020</td>\n",
       "      <td>247552</td>\n",
       "    </tr>\n",
       "    <tr>\n",
       "      <th>86</th>\n",
       "      <td>16</td>\n",
       "      <td>02-09-2020</td>\n",
       "      <td>232451</td>\n",
       "    </tr>\n",
       "    <tr>\n",
       "      <th>87</th>\n",
       "      <td>16</td>\n",
       "      <td>03-10-2020</td>\n",
       "      <td>28375</td>\n",
       "    </tr>\n",
       "    <tr>\n",
       "      <th>88</th>\n",
       "      <td>16</td>\n",
       "      <td>30-03-2020</td>\n",
       "      <td>232451</td>\n",
       "    </tr>\n",
       "  </tbody>\n",
       "</table>\n",
       "<p>89 rows × 3 columns</p>\n",
       "</div>"
      ],
      "text/plain": [
       "    Region Fecha de Inicio  Poblacion\n",
       "0        1      12-06-2020      17395\n",
       "1        1      15-05-2020     353462\n",
       "2        2      05-05-2020     440501\n",
       "3        2      12-06-2020     190336\n",
       "4        2      23-06-2020     468580\n",
       "..     ...             ...        ...\n",
       "84      15      14-07-2020     247552\n",
       "85      15      16-04-2020     247552\n",
       "86      16      02-09-2020     232451\n",
       "87      16      03-10-2020      28375\n",
       "88      16      30-03-2020     232451\n",
       "\n",
       "[89 rows x 3 columns]"
      ]
     },
     "execution_count": 112,
     "metadata": {},
     "output_type": "execute_result"
    }
   ],
   "source": [
    "#Numero de personas en cuarentena por Region al dia de inicio de la misma:\n",
    "df_2 = df_real.groupby(['Region','Fecha de Inicio']).Poblacion.sum()\n",
    "df_2.to_frame(name='Poblacion')\n",
    "df_3 = df_2.to_frame().reset_index()\n",
    "df_3"
   ]
  },
  {
   "cell_type": "code",
   "execution_count": 113,
   "id": "a44d36e9-80b3-458c-b3b1-8f786388824e",
   "metadata": {},
   "outputs": [
    {
     "data": {
      "text/html": [
       "<div>\n",
       "<style scoped>\n",
       "    .dataframe tbody tr th:only-of-type {\n",
       "        vertical-align: middle;\n",
       "    }\n",
       "\n",
       "    .dataframe tbody tr th {\n",
       "        vertical-align: top;\n",
       "    }\n",
       "\n",
       "    .dataframe thead th {\n",
       "        text-align: right;\n",
       "    }\n",
       "</style>\n",
       "<table border=\"1\" class=\"dataframe\">\n",
       "  <thead>\n",
       "    <tr style=\"text-align: right;\">\n",
       "      <th></th>\n",
       "      <th>Region</th>\n",
       "      <th>Fecha de Término</th>\n",
       "      <th>Poblacion</th>\n",
       "    </tr>\n",
       "  </thead>\n",
       "  <tbody>\n",
       "    <tr>\n",
       "      <th>0</th>\n",
       "      <td>1</td>\n",
       "      <td>03-10-2020</td>\n",
       "      <td>353462</td>\n",
       "    </tr>\n",
       "    <tr>\n",
       "      <th>1</th>\n",
       "      <td>1</td>\n",
       "      <td>28-09-2020</td>\n",
       "      <td>17395</td>\n",
       "    </tr>\n",
       "    <tr>\n",
       "      <th>2</th>\n",
       "      <td>2</td>\n",
       "      <td>10-08-2020</td>\n",
       "      <td>28079</td>\n",
       "    </tr>\n",
       "    <tr>\n",
       "      <th>3</th>\n",
       "      <td>2</td>\n",
       "      <td>21-09-2020</td>\n",
       "      <td>190336</td>\n",
       "    </tr>\n",
       "    <tr>\n",
       "      <th>4</th>\n",
       "      <td>2</td>\n",
       "      <td>28-09-2020</td>\n",
       "      <td>440501</td>\n",
       "    </tr>\n",
       "    <tr>\n",
       "      <th>...</th>\n",
       "      <td>...</td>\n",
       "      <td>...</td>\n",
       "      <td>...</td>\n",
       "    </tr>\n",
       "    <tr>\n",
       "      <th>87</th>\n",
       "      <td>15</td>\n",
       "      <td>09-11-2020</td>\n",
       "      <td>247552</td>\n",
       "    </tr>\n",
       "    <tr>\n",
       "      <th>88</th>\n",
       "      <td>15</td>\n",
       "      <td>15-05-2020</td>\n",
       "      <td>247552</td>\n",
       "    </tr>\n",
       "    <tr>\n",
       "      <th>89</th>\n",
       "      <td>16</td>\n",
       "      <td>03-10-2020</td>\n",
       "      <td>232451</td>\n",
       "    </tr>\n",
       "    <tr>\n",
       "      <th>90</th>\n",
       "      <td>16</td>\n",
       "      <td>23-04-2020</td>\n",
       "      <td>232451</td>\n",
       "    </tr>\n",
       "    <tr>\n",
       "      <th>91</th>\n",
       "      <td>16</td>\n",
       "      <td>26-10-2020</td>\n",
       "      <td>28375</td>\n",
       "    </tr>\n",
       "  </tbody>\n",
       "</table>\n",
       "<p>92 rows × 3 columns</p>\n",
       "</div>"
      ],
      "text/plain": [
       "    Region Fecha de Término  Poblacion\n",
       "0        1       03-10-2020     353462\n",
       "1        1       28-09-2020      17395\n",
       "2        2       10-08-2020      28079\n",
       "3        2       21-09-2020     190336\n",
       "4        2       28-09-2020     440501\n",
       "..     ...              ...        ...\n",
       "87      15       09-11-2020     247552\n",
       "88      15       15-05-2020     247552\n",
       "89      16       03-10-2020     232451\n",
       "90      16       23-04-2020     232451\n",
       "91      16       26-10-2020      28375\n",
       "\n",
       "[92 rows x 3 columns]"
      ]
     },
     "execution_count": 113,
     "metadata": {},
     "output_type": "execute_result"
    }
   ],
   "source": [
    "#Numero de personas en cuarentena por Region al dia de fin de la cuarentena:\n",
    "df_2 = df_real.groupby(['Region','Fecha de Término']).Poblacion.sum()\n",
    "df_2.to_frame(name='Poblacion')\n",
    "df_3 = df_2.to_frame().reset_index()\n",
    "df_3"
   ]
  },
  {
   "cell_type": "code",
   "execution_count": 114,
   "id": "14503984-cdfc-4171-90be-17665a203dec",
   "metadata": {},
   "outputs": [
    {
     "data": {
      "text/html": [
       "<div>\n",
       "<style scoped>\n",
       "    .dataframe tbody tr th:only-of-type {\n",
       "        vertical-align: middle;\n",
       "    }\n",
       "\n",
       "    .dataframe tbody tr th {\n",
       "        vertical-align: top;\n",
       "    }\n",
       "\n",
       "    .dataframe thead th {\n",
       "        text-align: right;\n",
       "    }\n",
       "</style>\n",
       "<table border=\"1\" class=\"dataframe\">\n",
       "  <thead>\n",
       "    <tr style=\"text-align: right;\">\n",
       "      <th></th>\n",
       "      <th>Region</th>\n",
       "      <th>Fecha de Inicio</th>\n",
       "      <th>Fecha de Término</th>\n",
       "      <th>Poblacion</th>\n",
       "    </tr>\n",
       "  </thead>\n",
       "  <tbody>\n",
       "    <tr>\n",
       "      <th>0</th>\n",
       "      <td>1</td>\n",
       "      <td>12-06-2020</td>\n",
       "      <td>28-09-2020</td>\n",
       "      <td>17395</td>\n",
       "    </tr>\n",
       "    <tr>\n",
       "      <th>1</th>\n",
       "      <td>1</td>\n",
       "      <td>15-05-2020</td>\n",
       "      <td>03-10-2020</td>\n",
       "      <td>353462</td>\n",
       "    </tr>\n",
       "    <tr>\n",
       "      <th>2</th>\n",
       "      <td>2</td>\n",
       "      <td>05-05-2020</td>\n",
       "      <td>29-05-2020</td>\n",
       "      <td>440501</td>\n",
       "    </tr>\n",
       "    <tr>\n",
       "      <th>3</th>\n",
       "      <td>2</td>\n",
       "      <td>12-06-2020</td>\n",
       "      <td>21-09-2020</td>\n",
       "      <td>190336</td>\n",
       "    </tr>\n",
       "    <tr>\n",
       "      <th>4</th>\n",
       "      <td>2</td>\n",
       "      <td>23-06-2020</td>\n",
       "      <td>10-08-2020</td>\n",
       "      <td>28079</td>\n",
       "    </tr>\n",
       "    <tr>\n",
       "      <th>...</th>\n",
       "      <td>...</td>\n",
       "      <td>...</td>\n",
       "      <td>...</td>\n",
       "      <td>...</td>\n",
       "    </tr>\n",
       "    <tr>\n",
       "      <th>131</th>\n",
       "      <td>15</td>\n",
       "      <td>14-07-2020</td>\n",
       "      <td>09-11-2020</td>\n",
       "      <td>247552</td>\n",
       "    </tr>\n",
       "    <tr>\n",
       "      <th>132</th>\n",
       "      <td>15</td>\n",
       "      <td>16-04-2020</td>\n",
       "      <td>15-05-2020</td>\n",
       "      <td>247552</td>\n",
       "    </tr>\n",
       "    <tr>\n",
       "      <th>133</th>\n",
       "      <td>16</td>\n",
       "      <td>02-09-2020</td>\n",
       "      <td>03-10-2020</td>\n",
       "      <td>232451</td>\n",
       "    </tr>\n",
       "    <tr>\n",
       "      <th>134</th>\n",
       "      <td>16</td>\n",
       "      <td>03-10-2020</td>\n",
       "      <td>26-10-2020</td>\n",
       "      <td>28375</td>\n",
       "    </tr>\n",
       "    <tr>\n",
       "      <th>135</th>\n",
       "      <td>16</td>\n",
       "      <td>30-03-2020</td>\n",
       "      <td>23-04-2020</td>\n",
       "      <td>232451</td>\n",
       "    </tr>\n",
       "  </tbody>\n",
       "</table>\n",
       "<p>136 rows × 4 columns</p>\n",
       "</div>"
      ],
      "text/plain": [
       "     Region Fecha de Inicio Fecha de Término  Poblacion\n",
       "0         1      12-06-2020       28-09-2020      17395\n",
       "1         1      15-05-2020       03-10-2020     353462\n",
       "2         2      05-05-2020       29-05-2020     440501\n",
       "3         2      12-06-2020       21-09-2020     190336\n",
       "4         2      23-06-2020       10-08-2020      28079\n",
       "..      ...             ...              ...        ...\n",
       "131      15      14-07-2020       09-11-2020     247552\n",
       "132      15      16-04-2020       15-05-2020     247552\n",
       "133      16      02-09-2020       03-10-2020     232451\n",
       "134      16      03-10-2020       26-10-2020      28375\n",
       "135      16      30-03-2020       23-04-2020     232451\n",
       "\n",
       "[136 rows x 4 columns]"
      ]
     },
     "execution_count": 114,
     "metadata": {},
     "output_type": "execute_result"
    }
   ],
   "source": [
    "#Tabla general con poblacion por inicio / termino en cada region:\n",
    "df_2 = df_real.groupby(['Region','Fecha de Inicio', 'Fecha de Término']).Poblacion.sum()\n",
    "df_2.to_frame(name='Poblacion')\n",
    "df_5 = df_2.to_frame().reset_index()\n",
    "df_5"
   ]
  },
  {
   "cell_type": "code",
   "execution_count": 115,
   "id": "1b8d26c0-c060-4ddb-980f-4c49523c352d",
   "metadata": {},
   "outputs": [],
   "source": [
    "#Definir los data de cada region, sin embargo debemos eliminar los NaN que se generan por la igualdad\n",
    "#para lo cual usamos dropna\n",
    "\n",
    "#ESTE CODIGO SE OBTUVO DEL GRUPO CON INTEGRANTES: NEELY, PAZ, PESENTI, NIETO, GODOY, GUZMAN, VARAS.\n",
    "\n",
    "Reg_1 = df_5.where(df_5['Region']==1)\n",
    "Reg_1 = Reg_1.dropna()\n",
    "Reg_2 = df_5.where(df_5['Region']==2)\n",
    "Reg_2 = Reg_2.dropna()\n",
    "Reg_3 = df_5.where(df_5['Region']==3)\n",
    "Reg_3 = Reg_3.dropna()\n",
    "Reg_4 = df_5.where(df_5['Region']==4)\n",
    "Reg_4 = Reg_4.dropna()\n",
    "Reg_5 = df_5.where(df_5['Region']==5)\n",
    "Reg_5 = Reg_5.dropna()\n",
    "Reg_6 = df_5.where(df_5['Region']==6)\n",
    "Reg_6 = Reg_6.dropna()\n",
    "Reg_7 = df_5.where(df_5['Region']==7)\n",
    "Reg_7 = Reg_7.dropna()\n",
    "Reg_8 = df_5.where(df_5['Region']==8)\n",
    "Reg_8 = Reg_8.dropna()\n",
    "Reg_9 = df_5.where(df_5['Region']==9)\n",
    "Reg_9 = Reg_9.dropna()\n",
    "Reg_10 = df_5.where(df_5['Region']==10)\n",
    "Reg_10 = Reg_10.dropna()\n",
    "Reg_11 = df_5.where(df_5['Region']==11)\n",
    "Reg_11 = Reg_11.dropna()\n",
    "Reg_12 = df_5.where(df_5['Region']==12)\n",
    "Reg_12 = Reg_12.dropna()\n",
    "Reg_13 = df_5.where(df_5['Region']==13)\n",
    "Reg_13 = Reg_13.dropna()\n",
    "Reg_14 = df_5.where(df_5['Region']==14)\n",
    "Reg_14 = Reg_14.dropna()\n",
    "Reg_15 = df_5.where(df_5['Region']==15)\n",
    "Reg_15 = Reg_15.dropna()\n",
    "Reg_16 = df_5.where(df_5['Region']==16)\n",
    "Reg_16 = Reg_16.dropna()"
   ]
  },
  {
   "cell_type": "code",
   "execution_count": 116,
   "id": "c6898adc-1f11-4e05-9402-8b59a0c766e4",
   "metadata": {},
   "outputs": [
    {
     "name": "stdout",
     "output_type": "stream",
     "text": [
      "<class 'pandas.core.frame.DataFrame'>\n",
      "Int64Index: 2 entries, 0 to 1\n",
      "Data columns (total 4 columns):\n",
      " #   Column            Non-Null Count  Dtype  \n",
      "---  ------            --------------  -----  \n",
      " 0   Region            2 non-null      float64\n",
      " 1   Fecha de Inicio   2 non-null      object \n",
      " 2   Fecha de Término  2 non-null      object \n",
      " 3   Poblacion         2 non-null      float64\n",
      "dtypes: float64(2), object(2)\n",
      "memory usage: 80.0+ bytes\n"
     ]
    }
   ],
   "source": [
    "Reg_1.info()"
   ]
  },
  {
   "cell_type": "code",
   "execution_count": 117,
   "id": "91a106ca-0e60-4b7a-aa94-cf7c035811ce",
   "metadata": {},
   "outputs": [],
   "source": [
    "Reg_1['Fecha de Inicio'] = pd.to_datetime(Reg_1['Fecha de Inicio'])\n",
    "Reg_1['Fecha de Término'] = pd.to_datetime(Reg_1['Fecha de Término'])\n",
    "Reg_2['Fecha de Inicio'] = pd.to_datetime(Reg_2['Fecha de Inicio'])\n",
    "Reg_2['Fecha de Término'] = pd.to_datetime(Reg_2['Fecha de Término'])\n",
    "Reg_3['Fecha de Inicio'] = pd.to_datetime(Reg_3['Fecha de Inicio'])\n",
    "Reg_3['Fecha de Término'] = pd.to_datetime(Reg_3['Fecha de Término'])\n",
    "Reg_4['Fecha de Inicio'] = pd.to_datetime(Reg_4['Fecha de Inicio'])\n",
    "Reg_4['Fecha de Término'] = pd.to_datetime(Reg_4['Fecha de Término'])\n",
    "Reg_5['Fecha de Inicio'] = pd.to_datetime(Reg_5['Fecha de Inicio'])\n",
    "Reg_5['Fecha de Término'] = pd.to_datetime(Reg_5['Fecha de Término'])\n",
    "Reg_6['Fecha de Inicio'] = pd.to_datetime(Reg_6['Fecha de Inicio'])\n",
    "Reg_6['Fecha de Término'] = pd.to_datetime(Reg_6['Fecha de Término'])\n",
    "Reg_7['Fecha de Inicio'] = pd.to_datetime(Reg_7['Fecha de Inicio'])\n",
    "Reg_7['Fecha de Término'] = pd.to_datetime(Reg_7['Fecha de Término'])\n",
    "Reg_8['Fecha de Inicio'] = pd.to_datetime(Reg_8['Fecha de Inicio'])\n",
    "Reg_8['Fecha de Término'] = pd.to_datetime(Reg_8['Fecha de Término'])\n",
    "Reg_9['Fecha de Inicio'] = pd.to_datetime(Reg_9['Fecha de Inicio'])\n",
    "Reg_9['Fecha de Término'] = pd.to_datetime(Reg_9['Fecha de Término'])\n",
    "Reg_10['Fecha de Inicio'] = pd.to_datetime(Reg_10['Fecha de Inicio'])\n",
    "Reg_10['Fecha de Término'] = pd.to_datetime(Reg_10['Fecha de Término'])\n",
    "Reg_11['Fecha de Inicio'] = pd.to_datetime(Reg_11['Fecha de Inicio'])\n",
    "Reg_11['Fecha de Término'] = pd.to_datetime(Reg_11['Fecha de Término'])\n",
    "Reg_12['Fecha de Inicio'] = pd.to_datetime(Reg_12['Fecha de Inicio'])\n",
    "Reg_12['Fecha de Término'] = pd.to_datetime(Reg_12['Fecha de Término'])\n",
    "Reg_13['Fecha de Inicio'] = pd.to_datetime(Reg_13['Fecha de Inicio'])\n",
    "Reg_13['Fecha de Término'] = pd.to_datetime(Reg_13['Fecha de Término'])\n",
    "Reg_14['Fecha de Inicio'] = pd.to_datetime(Reg_14['Fecha de Inicio'])\n",
    "Reg_14['Fecha de Término'] = pd.to_datetime(Reg_14['Fecha de Término'])\n",
    "Reg_15['Fecha de Inicio'] = pd.to_datetime(Reg_15['Fecha de Inicio'])\n",
    "Reg_15['Fecha de Término'] = pd.to_datetime(Reg_15['Fecha de Término'])\n",
    "Reg_16['Fecha de Inicio'] = pd.to_datetime(Reg_16['Fecha de Inicio'])\n",
    "Reg_16['Fecha de Término'] = pd.to_datetime(Reg_16['Fecha de Término'])"
   ]
  },
  {
   "cell_type": "code",
   "execution_count": 118,
   "id": "fc3128a1-1f38-4141-a0f8-8302771c0997",
   "metadata": {},
   "outputs": [
    {
     "data": {
      "text/html": [
       "<div>\n",
       "<style scoped>\n",
       "    .dataframe tbody tr th:only-of-type {\n",
       "        vertical-align: middle;\n",
       "    }\n",
       "\n",
       "    .dataframe tbody tr th {\n",
       "        vertical-align: top;\n",
       "    }\n",
       "\n",
       "    .dataframe thead th {\n",
       "        text-align: right;\n",
       "    }\n",
       "</style>\n",
       "<table border=\"1\" class=\"dataframe\">\n",
       "  <thead>\n",
       "    <tr style=\"text-align: right;\">\n",
       "      <th></th>\n",
       "      <th>Region</th>\n",
       "      <th>Fecha de Inicio</th>\n",
       "      <th>Fecha de Término</th>\n",
       "      <th>Poblacion</th>\n",
       "    </tr>\n",
       "  </thead>\n",
       "  <tbody>\n",
       "    <tr>\n",
       "      <th>0</th>\n",
       "      <td>1.0</td>\n",
       "      <td>2020-12-06</td>\n",
       "      <td>2020-09-28</td>\n",
       "      <td>17395.0</td>\n",
       "    </tr>\n",
       "    <tr>\n",
       "      <th>1</th>\n",
       "      <td>1.0</td>\n",
       "      <td>2020-05-15</td>\n",
       "      <td>2020-03-10</td>\n",
       "      <td>353462.0</td>\n",
       "    </tr>\n",
       "  </tbody>\n",
       "</table>\n",
       "</div>"
      ],
      "text/plain": [
       "   Region Fecha de Inicio Fecha de Término  Poblacion\n",
       "0     1.0      2020-12-06       2020-09-28    17395.0\n",
       "1     1.0      2020-05-15       2020-03-10   353462.0"
      ]
     },
     "execution_count": 118,
     "metadata": {},
     "output_type": "execute_result"
    }
   ],
   "source": [
    "Reg_1"
   ]
  },
  {
   "cell_type": "code",
   "execution_count": 119,
   "id": "f71420f2-c726-4fa8-8006-a4419cf8eb5c",
   "metadata": {},
   "outputs": [
    {
     "data": {
      "text/plain": [
       "<AxesSubplot:xlabel='Fecha de Inicio', ylabel='Poblacion'>"
      ]
     },
     "execution_count": 119,
     "metadata": {},
     "output_type": "execute_result"
    },
    {
     "data": {
      "image/png": "[encoded data removed]",
      "text/plain": [
       "<Figure size 1008x360 with 1 Axes>"
      ]
     },
     "metadata": {
      "needs_background": "light"
     },
     "output_type": "display_data"
    }
   ],
   "source": [
    "#Grafico para numero total de personas en cuarentena en la Primera Region\n",
    "plt.figure(figsize = (14,5))\n",
    "sns.lineplot (x = 'Fecha de Inicio', y = 'Poblacion', data = Reg_1)"
   ]
  },
  {
   "cell_type": "code",
   "execution_count": 120,
   "id": "1d7cc7ca-0871-4aad-8dd1-fbab07e73497",
   "metadata": {},
   "outputs": [
    {
     "data": {
      "text/plain": [
       "<AxesSubplot:xlabel='Fecha de Inicio', ylabel='Poblacion'>"
      ]
     },
     "execution_count": 120,
     "metadata": {},
     "output_type": "execute_result"
    },
    {
     "data": {
      "image/png": "[encoded data removed]",
      "text/plain": [
       "<Figure size 1008x360 with 1 Axes>"
      ]
     },
     "metadata": {
      "needs_background": "light"
     },
     "output_type": "display_data"
    }
   ],
   "source": [
    "#Grafico para numero total de personas en cuarentena en la Segunda Region\n",
    "plt.figure(figsize = (14,5))\n",
    "sns.lineplot (x = 'Fecha de Inicio', y = 'Poblacion', data = Reg_2)"
   ]
  },
  {
   "cell_type": "code",
   "execution_count": 121,
   "id": "c6f4be8e-ab84-4cd4-9d07-ce83f7fd2f7f",
   "metadata": {},
   "outputs": [
    {
     "data": {
      "text/plain": [
       "<AxesSubplot:xlabel='Fecha de Inicio', ylabel='Poblacion'>"
      ]
     },
     "execution_count": 121,
     "metadata": {},
     "output_type": "execute_result"
    },
    {
     "data": {
      "image/png": "[encoded data removed]",
      "text/plain": [
       "<Figure size 1008x360 with 1 Axes>"
      ]
     },
     "metadata": {
      "needs_background": "light"
     },
     "output_type": "display_data"
    }
   ],
   "source": [
    "#Grafico para numero total de personas en cuarentena en la Tercera Region\n",
    "plt.figure(figsize = (14,5))\n",
    "sns.lineplot (x = 'Fecha de Inicio', y = 'Poblacion', data = Reg_3)"
   ]
  },
  {
   "cell_type": "code",
   "execution_count": null,
   "id": "c9ace292-eece-4514-a5c3-77546ba96130",
   "metadata": {},
   "outputs": [],
   "source": []
  },
  {
   "cell_type": "code",
   "execution_count": 122,
   "id": "f8457f9d-04e5-4c18-ace7-ff7ece049229",
   "metadata": {},
   "outputs": [
    {
     "data": {
      "text/plain": [
       "<AxesSubplot:xlabel='Fecha de Inicio', ylabel='Poblacion'>"
      ]
     },
     "execution_count": 122,
     "metadata": {},
     "output_type": "execute_result"
    },
    {
     "data": {
      "image/png": "[encoded data removed]",
      "text/plain": [
       "<Figure size 1008x360 with 1 Axes>"
      ]
     },
     "metadata": {
      "needs_background": "light"
     },
     "output_type": "display_data"
    }
   ],
   "source": [
    "#Grafico para numero total de personas en cuarentena en la Cuarta Region\n",
    "plt.figure(figsize = (14,5))\n",
    "sns.lineplot (x = 'Fecha de Inicio', y = 'Poblacion', data = Reg_4)"
   ]
  },
  {
   "cell_type": "code",
   "execution_count": 123,
   "id": "82653831-2e26-4abd-ab62-5b05506de210",
   "metadata": {},
   "outputs": [
    {
     "data": {
      "text/plain": [
       "<AxesSubplot:xlabel='Fecha de Inicio', ylabel='Poblacion'>"
      ]
     },
     "execution_count": 123,
     "metadata": {},
     "output_type": "execute_result"
    },
    {
     "data": {
      "image/png": "[encoded data removed]",
      "text/plain": [
       "<Figure size 1008x360 with 1 Axes>"
      ]
     },
     "metadata": {
      "needs_background": "light"
     },
     "output_type": "display_data"
    }
   ],
   "source": [
    "#Grafico para numero total de personas en cuarentena en la Quinta Region\n",
    "plt.figure(figsize = (14,5))\n",
    "sns.lineplot (x = 'Fecha de Inicio', y = 'Poblacion', data = Reg_5)"
   ]
  },
  {
   "cell_type": "code",
   "execution_count": 124,
   "id": "37406666-6d26-422c-8ddb-04381d05003a",
   "metadata": {},
   "outputs": [
    {
     "data": {
      "text/plain": [
       "<AxesSubplot:xlabel='Fecha de Inicio', ylabel='Poblacion'>"
      ]
     },
     "execution_count": 124,
     "metadata": {},
     "output_type": "execute_result"
    },
    {
     "data": {
      "image/png": "[encoded data removed]",
      "text/plain": [
       "<Figure size 1008x360 with 1 Axes>"
      ]
     },
     "metadata": {
      "needs_background": "light"
     },
     "output_type": "display_data"
    }
   ],
   "source": [
    "#Grafico para numero total de personas en cuarentena en la Sexta Region\n",
    "plt.figure(figsize = (14,5))\n",
    "sns.lineplot (x = 'Fecha de Inicio', y = 'Poblacion', data = Reg_6)"
   ]
  },
  {
   "cell_type": "code",
   "execution_count": 125,
   "id": "7e60ff89-f78b-4fd0-b25a-5a9a4534f1a2",
   "metadata": {},
   "outputs": [
    {
     "data": {
      "text/plain": [
       "<AxesSubplot:xlabel='Fecha de Inicio', ylabel='Poblacion'>"
      ]
     },
     "execution_count": 125,
     "metadata": {},
     "output_type": "execute_result"
    },
    {
     "data": {
      "image/png": "[encoded data removed]",
      "text/plain": [
       "<Figure size 1008x360 with 1 Axes>"
      ]
     },
     "metadata": {
      "needs_background": "light"
     },
     "output_type": "display_data"
    }
   ],
   "source": [
    "#Grafico para numero total de personas en cuarentena en la Septima Region\n",
    "plt.figure(figsize = (14,5))\n",
    "sns.lineplot (x = 'Fecha de Inicio', y = 'Poblacion', data = Reg_7)"
   ]
  },
  {
   "cell_type": "code",
   "execution_count": 126,
   "id": "e28999dc-3960-4f10-b2ff-86a35dde4dca",
   "metadata": {},
   "outputs": [
    {
     "data": {
      "text/plain": [
       "<AxesSubplot:xlabel='Fecha de Inicio', ylabel='Poblacion'>"
      ]
     },
     "execution_count": 126,
     "metadata": {},
     "output_type": "execute_result"
    },
    {
     "data": {
      "image/png": "[encoded data removed]",
      "text/plain": [
       "<Figure size 1008x360 with 1 Axes>"
      ]
     },
     "metadata": {
      "needs_background": "light"
     },
     "output_type": "display_data"
    }
   ],
   "source": [
    "#Grafico para numero total de personas en cuarentena en la Octava Region\n",
    "plt.figure(figsize = (14,5))\n",
    "sns.lineplot (x = 'Fecha de Inicio', y = 'Poblacion', data = Reg_8)"
   ]
  },
  {
   "cell_type": "code",
   "execution_count": 127,
   "id": "6e0b9721-0ddb-4413-8c38-7a9f16282e98",
   "metadata": {},
   "outputs": [
    {
     "data": {
      "text/plain": [
       "<AxesSubplot:xlabel='Fecha de Inicio', ylabel='Poblacion'>"
      ]
     },
     "execution_count": 127,
     "metadata": {},
     "output_type": "execute_result"
    },
    {
     "data": {
      "image/png": "[encoded data removed]",
      "text/plain": [
       "<Figure size 1008x360 with 1 Axes>"
      ]
     },
     "metadata": {
      "needs_background": "light"
     },
     "output_type": "display_data"
    }
   ],
   "source": [
    "#Grafico para numero total de personas en cuarentena en la Novena Region\n",
    "plt.figure(figsize = (14,5))\n",
    "sns.lineplot (x = 'Fecha de Inicio', y = 'Poblacion', data = Reg_9)"
   ]
  },
  {
   "cell_type": "code",
   "execution_count": 128,
   "id": "aa4aafc8-8a02-48ed-93ac-cd040c415721",
   "metadata": {},
   "outputs": [
    {
     "data": {
      "text/plain": [
       "<AxesSubplot:xlabel='Fecha de Inicio', ylabel='Poblacion'>"
      ]
     },
     "execution_count": 128,
     "metadata": {},
     "output_type": "execute_result"
    },
    {
     "data": {
      "image/png": "[encoded data removed]",
      "text/plain": [
       "<Figure size 1008x360 with 1 Axes>"
      ]
     },
     "metadata": {
      "needs_background": "light"
     },
     "output_type": "display_data"
    }
   ],
   "source": [
    "#Grafico para numero total de personas en cuarentena en la Decima Region\n",
    "plt.figure(figsize = (14,5))\n",
    "sns.lineplot (x = 'Fecha de Inicio', y = 'Poblacion', data = Reg_10)"
   ]
  },
  {
   "cell_type": "code",
   "execution_count": 129,
   "id": "043446af-a97c-43c0-9b44-daceba855975",
   "metadata": {},
   "outputs": [
    {
     "data": {
      "text/plain": [
       "<AxesSubplot:xlabel='Fecha de Inicio', ylabel='Poblacion'>"
      ]
     },
     "execution_count": 129,
     "metadata": {},
     "output_type": "execute_result"
    },
    {
     "data": {
      "image/png": "[encoded data removed]",
      "text/plain": [
       "<Figure size 1008x360 with 1 Axes>"
      ]
     },
     "metadata": {
      "needs_background": "light"
     },
     "output_type": "display_data"
    }
   ],
   "source": [
    "#Grafico para numero total de personas en cuarentena en la Onceava Region\n",
    "plt.figure(figsize = (14,5))\n",
    "sns.lineplot (x = 'Fecha de Inicio', y = 'Poblacion', data = Reg_11)"
   ]
  },
  {
   "cell_type": "code",
   "execution_count": 130,
   "id": "6b51f4de-bc96-40f4-92b1-7c4fcf826b60",
   "metadata": {},
   "outputs": [
    {
     "data": {
      "text/plain": [
       "<AxesSubplot:xlabel='Fecha de Inicio', ylabel='Poblacion'>"
      ]
     },
     "execution_count": 130,
     "metadata": {},
     "output_type": "execute_result"
    },
    {
     "data": {
      "image/png": "[encoded data removed]",
      "text/plain": [
       "<Figure size 1008x360 with 1 Axes>"
      ]
     },
     "metadata": {
      "needs_background": "light"
     },
     "output_type": "display_data"
    }
   ],
   "source": [
    "#Grafico para numero total de personas en cuarentena en la Doceava Region\n",
    "plt.figure(figsize = (14,5))\n",
    "sns.lineplot (x = 'Fecha de Inicio', y = 'Poblacion', data = Reg_12)"
   ]
  },
  {
   "cell_type": "code",
   "execution_count": 131,
   "id": "470be002-6eaf-4a96-9f9e-c9fcff96429e",
   "metadata": {},
   "outputs": [
    {
     "data": {
      "text/plain": [
       "<AxesSubplot:xlabel='Fecha de Inicio', ylabel='Poblacion'>"
      ]
     },
     "execution_count": 131,
     "metadata": {},
     "output_type": "execute_result"
    },
    {
     "data": {
      "image/png": "[encoded data removed]",
      "text/plain": [
       "<Figure size 1008x360 with 1 Axes>"
      ]
     },
     "metadata": {
      "needs_background": "light"
     },
     "output_type": "display_data"
    }
   ],
   "source": [
    "#Grafico para numero total de personas en cuarentena en la Treceava Region\n",
    "plt.figure(figsize = (14,5))\n",
    "sns.lineplot (x = 'Fecha de Inicio', y = 'Poblacion', data = Reg_13)"
   ]
  },
  {
   "cell_type": "code",
   "execution_count": 132,
   "id": "4e87b4ff-7078-496d-8b03-cc64810f2f9b",
   "metadata": {},
   "outputs": [
    {
     "data": {
      "text/plain": [
       "<AxesSubplot:xlabel='Fecha de Inicio', ylabel='Poblacion'>"
      ]
     },
     "execution_count": 132,
     "metadata": {},
     "output_type": "execute_result"
    },
    {
     "data": {
      "image/png": "[encoded data removed]",
      "text/plain": [
       "<Figure size 1008x360 with 1 Axes>"
      ]
     },
     "metadata": {
      "needs_background": "light"
     },
     "output_type": "display_data"
    }
   ],
   "source": [
    "#Grafico para numero total de personas en cuarentena en la Catorceava Region\n",
    "plt.figure(figsize = (14,5))\n",
    "sns.lineplot (x = 'Fecha de Inicio', y = 'Poblacion', data = Reg_14)"
   ]
  },
  {
   "cell_type": "code",
   "execution_count": null,
   "id": "0dc24567-f5d5-4e48-b39a-f37b5991af4e",
   "metadata": {},
   "outputs": [],
   "source": []
  },
  {
   "cell_type": "code",
   "execution_count": 133,
   "id": "aa94dcb0-7abb-4e94-87f7-21500761d8e7",
   "metadata": {},
   "outputs": [
    {
     "data": {
      "text/plain": [
       "<AxesSubplot:xlabel='Fecha de Inicio', ylabel='Poblacion'>"
      ]
     },
     "execution_count": 133,
     "metadata": {},
     "output_type": "execute_result"
    },
    {
     "data": {
      "image/png": "[encoded data removed]",
      "text/plain": [
       "<Figure size 1008x360 with 1 Axes>"
      ]
     },
     "metadata": {
      "needs_background": "light"
     },
     "output_type": "display_data"
    }
   ],
   "source": [
    "#Grafico para numero total de personas en cuarentena en la Quinceava Region\n",
    "plt.figure(figsize = (14,5))\n",
    "sns.lineplot (x = 'Fecha de Inicio', y = 'Poblacion', data = Reg_15)"
   ]
  },
  {
   "cell_type": "code",
   "execution_count": 134,
   "id": "324800d9-8895-4b39-8433-25c0f7526396",
   "metadata": {},
   "outputs": [
    {
     "data": {
      "text/plain": [
       "<AxesSubplot:xlabel='Fecha de Inicio', ylabel='Poblacion'>"
      ]
     },
     "execution_count": 134,
     "metadata": {},
     "output_type": "execute_result"
    },
    {
     "data": {
      "image/png": "[encoded data removed]",
      "text/plain": [
       "<Figure size 1008x360 with 1 Axes>"
      ]
     },
     "metadata": {
      "needs_background": "light"
     },
     "output_type": "display_data"
    }
   ],
   "source": [
    "#Grafico para numero total de personas en cuarentena en la Dieciseisava Region\n",
    "plt.figure(figsize = (14,5))\n",
    "sns.lineplot (x = 'Fecha de Inicio', y = 'Poblacion', data = Reg_16)"
   ]
  },
  {
   "cell_type": "code",
   "execution_count": null,
   "id": "30919050-2427-4ba0-aa33-8c9153b51b52",
   "metadata": {},
   "outputs": [],
   "source": []
  }
 ],
 "metadata": {
  "kernelspec": {
   "display_name": "Python 3",
   "language": "python",
   "name": "python3"
  },
  "language_info": {
   "codemirror_mode": {
    "name": "ipython",
    "version": 3
   },
   "file_extension": ".py",
   "mimetype": "text/x-python",
   "name": "python",
   "nbconvert_exporter": "python",
   "pygments_lexer": "ipython3",
   "version": "3.8.8"
  }
 },
 "nbformat": 4,
 "nbformat_minor": 5
}
